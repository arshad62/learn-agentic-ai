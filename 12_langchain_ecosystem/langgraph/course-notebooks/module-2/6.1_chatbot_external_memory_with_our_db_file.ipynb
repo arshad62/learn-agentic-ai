{
  "cells": [
    {
      "cell_type": "markdown",
      "metadata": {
        "id": "view-in-github",
        "colab_type": "text"
      },
      "source": [
        "<a href=\"https://colab.research.google.com/github/arshad62/learn-agentic-ai/blob/main/12_langchain_ecosystem/langgraph/course-notebooks/module-2/6.1_chatbot_external_memory_with_our_db_file.ipynb\" target=\"_parent\"><img src=\"https://colab.research.google.com/assets/colab-badge.svg\" alt=\"Open In Colab\"/></a>"
      ]
    },
    {
      "cell_type": "markdown",
      "id": "af6c7afe-1037-41ab-98e4-494692e47402",
      "metadata": {
        "id": "af6c7afe-1037-41ab-98e4-494692e47402"
      },
      "source": [
        "# Chatbot with message summarization & external DB memory\n",
        "\n",
        "## Review\n",
        "\n",
        "We've covered how to customize graph state schema and reducer.\n",
        "\n",
        "We've also shown a number of tricks for trimming or filtering messages in graph state.\n",
        "\n",
        "We've used these concepts in a Chatbot with memory that produces a running summary of the conversation.\n",
        "\n",
        "## Goals\n",
        "\n",
        "But, what if we want our Chatbot to have memory that persists indefinitely?\n",
        "\n",
        "Now, we'll introduce some more advanced checkpointers that support external databases.\n",
        "\n",
        "Here, we'll show how to use [Sqlite as a checkpointer](https://langchain-ai.github.io/langgraph/concepts/low_level/#checkpointer), but other checkpointers, such as [Postgres](https://langchain-ai.github.io/langgraph/how-tos/persistence_postgres/) are available!"
      ]
    },
    {
      "cell_type": "markdown",
      "id": "b38746af",
      "metadata": {
        "id": "b38746af"
      },
      "source": [
        "## Use Cases for Database File Management:\n",
        "1. Fetching a Database File from a GitHub URL\n",
        "2. Uploading a Database File from Your Local System\n",
        "3. Accessing a Database File from Google Drive"
      ]
    },
    {
      "cell_type": "code",
      "execution_count": 1,
      "id": "85ed78d9-6ca2-45ac-96a9-52e341ec519d",
      "metadata": {
        "id": "85ed78d9-6ca2-45ac-96a9-52e341ec519d"
      },
      "outputs": [],
      "source": [
        "%%capture --no-stderr\n",
        "%pip install --quiet -U langgraph-checkpoint-sqlite langchain_core langgraph langchain_google_genai"
      ]
    },
    {
      "cell_type": "code",
      "execution_count": 2,
      "id": "2e10c4d4",
      "metadata": {
        "id": "2e10c4d4"
      },
      "outputs": [],
      "source": [
        "from google.colab import userdata\n",
        "GEMINI_API_KEY = userdata.get('GEMINI_API_KEY')"
      ]
    },
    {
      "cell_type": "code",
      "execution_count": 3,
      "id": "6a002315",
      "metadata": {
        "id": "6a002315"
      },
      "outputs": [],
      "source": [
        "import os\n",
        "os.environ[\"LANGCHAIN_API_KEY\"] = userdata.get('LANGCHAIN_API_KEY')\n",
        "os.environ[\"LANGCHAIN_TRACING_V2\"] = \"true\"\n",
        "os.environ[\"LANGCHAIN_PROJECT\"] = \"langchain-academy\""
      ]
    },
    {
      "cell_type": "markdown",
      "id": "b40d25c0-e9b5-4854-bf07-3cc3ff07122e",
      "metadata": {
        "id": "b40d25c0-e9b5-4854-bf07-3cc3ff07122e"
      },
      "source": [
        "## Sqlite\n",
        "\n",
        "A good starting point here is the [SqliteSaver checkpointer](https://langchain-ai.github.io/langgraph/concepts/low_level/#checkpointer).\n",
        "\n",
        "Sqlite is a [small, fast, highly popular](https://x.com/karpathy/status/1819490455664685297) SQL database.\n",
        "\n",
        "If we supply `\":memory:\"` it creates an in-memory Sqlite database."
      ]
    },
    {
      "cell_type": "code",
      "execution_count": 4,
      "id": "fae15402-17ae-4e89-8ecf-4c89e08b22fe",
      "metadata": {
        "id": "fae15402-17ae-4e89-8ecf-4c89e08b22fe"
      },
      "outputs": [],
      "source": [
        "import sqlite3\n",
        "# In memory - temporary database is created, not on-disk database\n",
        "conn = sqlite3.connect(\":memory:\", check_same_thread = False) #check_same_thread = False | allowing multiple threads to share and use the same SQLite database connection. By default it is True"
      ]
    },
    {
      "cell_type": "markdown",
      "id": "c2bf53ec-6d4a-42ce-8183-344795eed403",
      "metadata": {
        "id": "c2bf53ec-6d4a-42ce-8183-344795eed403"
      },
      "source": [
        "## Default Behavior:\n",
        "\n",
        "When you run the code for the first time, it will automatically fetch a new example.db file for you.\n",
        "But, if we supply a db path, then it will create a database for us!:"
      ]
    },
    {
      "cell_type": "code",
      "execution_count": 5,
      "id": "58339167-920c-4994-a0a7-0a9c5d4f7cf7",
      "metadata": {
        "id": "58339167-920c-4994-a0a7-0a9c5d4f7cf7",
        "outputId": "86f00ed8-33a8-4061-d715-0164ef967537",
        "colab": {
          "base_uri": "https://localhost:8080/"
        }
      },
      "outputs": [
        {
          "output_type": "stream",
          "name": "stdout",
          "text": [
            "--2025-01-05 07:12:57--  https://github.com/langchain-ai/langchain-academy/raw/main/module-2/state_db/example.db\n",
            "Resolving github.com (github.com)... 140.82.113.4\n",
            "Connecting to github.com (github.com)|140.82.113.4|:443... connected.\n",
            "HTTP request sent, awaiting response... 302 Found\n",
            "Location: https://raw.githubusercontent.com/langchain-ai/langchain-academy/main/module-2/state_db/example.db [following]\n",
            "--2025-01-05 07:12:57--  https://raw.githubusercontent.com/langchain-ai/langchain-academy/main/module-2/state_db/example.db\n",
            "Resolving raw.githubusercontent.com (raw.githubusercontent.com)... 185.199.108.133, 185.199.109.133, 185.199.110.133, ...\n",
            "Connecting to raw.githubusercontent.com (raw.githubusercontent.com)|185.199.108.133|:443... connected.\n",
            "HTTP request sent, awaiting response... 200 OK\n",
            "Length: 110592 (108K) [application/octet-stream]\n",
            "Saving to: ‘state_db/example.db’\n",
            "\n",
            "example.db          100%[===================>] 108.00K  --.-KB/s    in 0.02s   \n",
            "\n",
            "2025-01-05 07:12:58 (4.51 MB/s) - ‘state_db/example.db’ saved [110592/110592]\n",
            "\n"
          ]
        }
      ],
      "source": [
        "import sqlite3\n",
        "# pull file if it doesn't exist and connect to local db\n",
        "\n",
        "!mkdir -p state_db && [ ! -f state_db/example.db ] && wget -P state_db https://github.com/langchain-ai/langchain-academy/raw/main/module-2/state_db/example.db\n",
        "\n",
        "db_path = \"state_db/example.db\"\n",
        "conn = sqlite3.connect(db_path, check_same_thread=False)"
      ]
    },
    {
      "cell_type": "markdown",
      "id": "d-3TxBOlSQsc",
      "metadata": {
        "id": "d-3TxBOlSQsc"
      },
      "source": [
        "## Mount with Google Drive\n"
      ]
    },
    {
      "cell_type": "code",
      "execution_count": 5,
      "id": "5qxV1SIdSN3q",
      "metadata": {
        "colab": {
          "base_uri": "https://localhost:8080/"
        },
        "id": "5qxV1SIdSN3q",
        "outputId": "3e3b4277-784c-4c0f-fdbe-fe4d3ff1fad7"
      },
      "outputs": [
        {
          "output_type": "stream",
          "name": "stdout",
          "text": [
            "Mounted at /content/drive\n"
          ]
        }
      ],
      "source": [
        "from google.colab import drive\n",
        "drive.mount('/content/drive')"
      ]
    },
    {
      "cell_type": "markdown",
      "id": "r3ndkSuyVQWE",
      "metadata": {
        "id": "r3ndkSuyVQWE"
      },
      "source": [
        "connection is establish"
      ]
    },
    {
      "cell_type": "code",
      "execution_count": 6,
      "id": "njrumCAhRjwE",
      "metadata": {
        "id": "njrumCAhRjwE"
      },
      "outputs": [],
      "source": [
        "import sqlite3\n",
        "file_path = '/content/drive/My Drive/state_db/example.db'\n",
        "conn = sqlite3.connect(file_path)"
      ]
    },
    {
      "cell_type": "markdown",
      "id": "QwfuVtOi3FVl",
      "metadata": {
        "id": "QwfuVtOi3FVl"
      },
      "source": [
        "### When you want to pass your DB file:\n",
        "You need example.db as well as example.db-wal file to retrieve your previous data.\n",
        "\n",
        "Sqlite uses these 3 files:\n",
        "\n",
        "\n",
        "1.   example.db\n",
        "2.   example.db-wal\n",
        "3.   example.db-shm\n",
        "\n",
        "### How SQLite Uses These Files\n",
        "1. example.db:\n",
        "  This is the main database file where committed data is stored.\n",
        "\n",
        "2. example.db-wal:\n",
        "  If SQLite is in WAL mode, this file temporarily holds changes that\n",
        "  have not been checkpointed (written to example.db).\n",
        "  SQLite automatically reads from this file when you connect to the database.\n",
        "\n",
        "3. example.db-shm:\n",
        "  This file is used for shared memory when multiple connections are accessing the same database.\n",
        "  It is a temporary file and does not affect persistence.\n",
        "\n"
      ]
    },
    {
      "cell_type": "markdown",
      "id": "ExhbqtDfH-6D",
      "metadata": {
        "id": "ExhbqtDfH-6D"
      },
      "source": [
        "### Why you need to save example.db-wal file along with example.db file?\n",
        "\n",
        "1. **Uncommitted Changes Are Stored in `example.db-wal`**:\n",
        "   - In WAL mode, SQLite writes all changes to the `example.db-wal` file instead of directly modifying the main `example.db` file.\n",
        "   - These changes are only merged (checkpointed) into `example.db` when a checkpoint operation occurs.\n",
        "\n",
        "   If you only copy or use the `example.db` file without the `example.db-wal`, **any uncommitted changes in the WAL file will be lost.**\n",
        "\n",
        "2. **Ensures Data Consistency**:\n",
        "   - If you transfer the database (`example.db`) to another system without the `example.db-wal`, the database may appear incomplete or inconsistent if there are pending writes stored in the WAL file.\n",
        "\n",
        "3. **Concurrent Access**:\n",
        "   - The WAL file allows multiple processes to read from the database while another process writes to it, without blocking each other. If this feature is in use, the `example.db-wal` file is essential for proper functionality.\n",
        "\n"
      ]
    },
    {
      "cell_type": "code",
      "execution_count": 7,
      "id": "4sPiAKFq3EQT",
      "metadata": {
        "colab": {
          "base_uri": "https://localhost:8080/",
          "height": 213
        },
        "id": "4sPiAKFq3EQT",
        "outputId": "da06cd7f-4899-44b4-ecf2-a2a252391643"
      },
      "outputs": [
        {
          "output_type": "display_data",
          "data": {
            "text/plain": [
              "<IPython.core.display.HTML object>"
            ],
            "text/html": [
              "\n",
              "     <input type=\"file\" id=\"files-dbf2f27d-0155-4fe4-8ae0-40a65ec58ccf\" name=\"files[]\" multiple disabled\n",
              "        style=\"border:none\" />\n",
              "     <output id=\"result-dbf2f27d-0155-4fe4-8ae0-40a65ec58ccf\">\n",
              "      Upload widget is only available when the cell has been executed in the\n",
              "      current browser session. Please rerun this cell to enable.\n",
              "      </output>\n",
              "      <script>// Copyright 2017 Google LLC\n",
              "//\n",
              "// Licensed under the Apache License, Version 2.0 (the \"License\");\n",
              "// you may not use this file except in compliance with the License.\n",
              "// You may obtain a copy of the License at\n",
              "//\n",
              "//      http://www.apache.org/licenses/LICENSE-2.0\n",
              "//\n",
              "// Unless required by applicable law or agreed to in writing, software\n",
              "// distributed under the License is distributed on an \"AS IS\" BASIS,\n",
              "// WITHOUT WARRANTIES OR CONDITIONS OF ANY KIND, either express or implied.\n",
              "// See the License for the specific language governing permissions and\n",
              "// limitations under the License.\n",
              "\n",
              "/**\n",
              " * @fileoverview Helpers for google.colab Python module.\n",
              " */\n",
              "(function(scope) {\n",
              "function span(text, styleAttributes = {}) {\n",
              "  const element = document.createElement('span');\n",
              "  element.textContent = text;\n",
              "  for (const key of Object.keys(styleAttributes)) {\n",
              "    element.style[key] = styleAttributes[key];\n",
              "  }\n",
              "  return element;\n",
              "}\n",
              "\n",
              "// Max number of bytes which will be uploaded at a time.\n",
              "const MAX_PAYLOAD_SIZE = 100 * 1024;\n",
              "\n",
              "function _uploadFiles(inputId, outputId) {\n",
              "  const steps = uploadFilesStep(inputId, outputId);\n",
              "  const outputElement = document.getElementById(outputId);\n",
              "  // Cache steps on the outputElement to make it available for the next call\n",
              "  // to uploadFilesContinue from Python.\n",
              "  outputElement.steps = steps;\n",
              "\n",
              "  return _uploadFilesContinue(outputId);\n",
              "}\n",
              "\n",
              "// This is roughly an async generator (not supported in the browser yet),\n",
              "// where there are multiple asynchronous steps and the Python side is going\n",
              "// to poll for completion of each step.\n",
              "// This uses a Promise to block the python side on completion of each step,\n",
              "// then passes the result of the previous step as the input to the next step.\n",
              "function _uploadFilesContinue(outputId) {\n",
              "  const outputElement = document.getElementById(outputId);\n",
              "  const steps = outputElement.steps;\n",
              "\n",
              "  const next = steps.next(outputElement.lastPromiseValue);\n",
              "  return Promise.resolve(next.value.promise).then((value) => {\n",
              "    // Cache the last promise value to make it available to the next\n",
              "    // step of the generator.\n",
              "    outputElement.lastPromiseValue = value;\n",
              "    return next.value.response;\n",
              "  });\n",
              "}\n",
              "\n",
              "/**\n",
              " * Generator function which is called between each async step of the upload\n",
              " * process.\n",
              " * @param {string} inputId Element ID of the input file picker element.\n",
              " * @param {string} outputId Element ID of the output display.\n",
              " * @return {!Iterable<!Object>} Iterable of next steps.\n",
              " */\n",
              "function* uploadFilesStep(inputId, outputId) {\n",
              "  const inputElement = document.getElementById(inputId);\n",
              "  inputElement.disabled = false;\n",
              "\n",
              "  const outputElement = document.getElementById(outputId);\n",
              "  outputElement.innerHTML = '';\n",
              "\n",
              "  const pickedPromise = new Promise((resolve) => {\n",
              "    inputElement.addEventListener('change', (e) => {\n",
              "      resolve(e.target.files);\n",
              "    });\n",
              "  });\n",
              "\n",
              "  const cancel = document.createElement('button');\n",
              "  inputElement.parentElement.appendChild(cancel);\n",
              "  cancel.textContent = 'Cancel upload';\n",
              "  const cancelPromise = new Promise((resolve) => {\n",
              "    cancel.onclick = () => {\n",
              "      resolve(null);\n",
              "    };\n",
              "  });\n",
              "\n",
              "  // Wait for the user to pick the files.\n",
              "  const files = yield {\n",
              "    promise: Promise.race([pickedPromise, cancelPromise]),\n",
              "    response: {\n",
              "      action: 'starting',\n",
              "    }\n",
              "  };\n",
              "\n",
              "  cancel.remove();\n",
              "\n",
              "  // Disable the input element since further picks are not allowed.\n",
              "  inputElement.disabled = true;\n",
              "\n",
              "  if (!files) {\n",
              "    return {\n",
              "      response: {\n",
              "        action: 'complete',\n",
              "      }\n",
              "    };\n",
              "  }\n",
              "\n",
              "  for (const file of files) {\n",
              "    const li = document.createElement('li');\n",
              "    li.append(span(file.name, {fontWeight: 'bold'}));\n",
              "    li.append(span(\n",
              "        `(${file.type || 'n/a'}) - ${file.size} bytes, ` +\n",
              "        `last modified: ${\n",
              "            file.lastModifiedDate ? file.lastModifiedDate.toLocaleDateString() :\n",
              "                                    'n/a'} - `));\n",
              "    const percent = span('0% done');\n",
              "    li.appendChild(percent);\n",
              "\n",
              "    outputElement.appendChild(li);\n",
              "\n",
              "    const fileDataPromise = new Promise((resolve) => {\n",
              "      const reader = new FileReader();\n",
              "      reader.onload = (e) => {\n",
              "        resolve(e.target.result);\n",
              "      };\n",
              "      reader.readAsArrayBuffer(file);\n",
              "    });\n",
              "    // Wait for the data to be ready.\n",
              "    let fileData = yield {\n",
              "      promise: fileDataPromise,\n",
              "      response: {\n",
              "        action: 'continue',\n",
              "      }\n",
              "    };\n",
              "\n",
              "    // Use a chunked sending to avoid message size limits. See b/62115660.\n",
              "    let position = 0;\n",
              "    do {\n",
              "      const length = Math.min(fileData.byteLength - position, MAX_PAYLOAD_SIZE);\n",
              "      const chunk = new Uint8Array(fileData, position, length);\n",
              "      position += length;\n",
              "\n",
              "      const base64 = btoa(String.fromCharCode.apply(null, chunk));\n",
              "      yield {\n",
              "        response: {\n",
              "          action: 'append',\n",
              "          file: file.name,\n",
              "          data: base64,\n",
              "        },\n",
              "      };\n",
              "\n",
              "      let percentDone = fileData.byteLength === 0 ?\n",
              "          100 :\n",
              "          Math.round((position / fileData.byteLength) * 100);\n",
              "      percent.textContent = `${percentDone}% done`;\n",
              "\n",
              "    } while (position < fileData.byteLength);\n",
              "  }\n",
              "\n",
              "  // All done.\n",
              "  yield {\n",
              "    response: {\n",
              "      action: 'complete',\n",
              "    }\n",
              "  };\n",
              "}\n",
              "\n",
              "scope.google = scope.google || {};\n",
              "scope.google.colab = scope.google.colab || {};\n",
              "scope.google.colab._files = {\n",
              "  _uploadFiles,\n",
              "  _uploadFilesContinue,\n",
              "};\n",
              "})(self);\n",
              "</script> "
            ]
          },
          "metadata": {}
        },
        {
          "output_type": "stream",
          "name": "stdout",
          "text": [
            "Saving example.db-wal to example.db-wal\n",
            "Saving example (3).db to example (3).db\n",
            "Saving example (2).db to example (2).db\n",
            "Saving example (1).db to example (1).db\n",
            "Saving example.db to example.db\n"
          ]
        }
      ],
      "source": [
        "#Follow step if you already have previous database file\n",
        "#uplaod example.db file from your system\n",
        "from google.colab import files\n",
        "uploaded = files.upload()\n"
      ]
    },
    {
      "cell_type": "code",
      "execution_count": null,
      "id": "5YzkFJceChRK",
      "metadata": {
        "colab": {
          "base_uri": "https://localhost:8080/",
          "height": 73
        },
        "id": "5YzkFJceChRK",
        "outputId": "83ca0846-e63a-4a3c-c616-c117d49af6ee"
      },
      "outputs": [
        {
          "data": {
            "text/html": [
              "\n",
              "     <input type=\"file\" id=\"files-2d19fc14-12da-4457-a70f-ad32d1af39c0\" name=\"files[]\" multiple disabled\n",
              "        style=\"border:none\" />\n",
              "     <output id=\"result-2d19fc14-12da-4457-a70f-ad32d1af39c0\">\n",
              "      Upload widget is only available when the cell has been executed in the\n",
              "      current browser session. Please rerun this cell to enable.\n",
              "      </output>\n",
              "      <script>// Copyright 2017 Google LLC\n",
              "//\n",
              "// Licensed under the Apache License, Version 2.0 (the \"License\");\n",
              "// you may not use this file except in compliance with the License.\n",
              "// You may obtain a copy of the License at\n",
              "//\n",
              "//      http://www.apache.org/licenses/LICENSE-2.0\n",
              "//\n",
              "// Unless required by applicable law or agreed to in writing, software\n",
              "// distributed under the License is distributed on an \"AS IS\" BASIS,\n",
              "// WITHOUT WARRANTIES OR CONDITIONS OF ANY KIND, either express or implied.\n",
              "// See the License for the specific language governing permissions and\n",
              "// limitations under the License.\n",
              "\n",
              "/**\n",
              " * @fileoverview Helpers for google.colab Python module.\n",
              " */\n",
              "(function(scope) {\n",
              "function span(text, styleAttributes = {}) {\n",
              "  const element = document.createElement('span');\n",
              "  element.textContent = text;\n",
              "  for (const key of Object.keys(styleAttributes)) {\n",
              "    element.style[key] = styleAttributes[key];\n",
              "  }\n",
              "  return element;\n",
              "}\n",
              "\n",
              "// Max number of bytes which will be uploaded at a time.\n",
              "const MAX_PAYLOAD_SIZE = 100 * 1024;\n",
              "\n",
              "function _uploadFiles(inputId, outputId) {\n",
              "  const steps = uploadFilesStep(inputId, outputId);\n",
              "  const outputElement = document.getElementById(outputId);\n",
              "  // Cache steps on the outputElement to make it available for the next call\n",
              "  // to uploadFilesContinue from Python.\n",
              "  outputElement.steps = steps;\n",
              "\n",
              "  return _uploadFilesContinue(outputId);\n",
              "}\n",
              "\n",
              "// This is roughly an async generator (not supported in the browser yet),\n",
              "// where there are multiple asynchronous steps and the Python side is going\n",
              "// to poll for completion of each step.\n",
              "// This uses a Promise to block the python side on completion of each step,\n",
              "// then passes the result of the previous step as the input to the next step.\n",
              "function _uploadFilesContinue(outputId) {\n",
              "  const outputElement = document.getElementById(outputId);\n",
              "  const steps = outputElement.steps;\n",
              "\n",
              "  const next = steps.next(outputElement.lastPromiseValue);\n",
              "  return Promise.resolve(next.value.promise).then((value) => {\n",
              "    // Cache the last promise value to make it available to the next\n",
              "    // step of the generator.\n",
              "    outputElement.lastPromiseValue = value;\n",
              "    return next.value.response;\n",
              "  });\n",
              "}\n",
              "\n",
              "/**\n",
              " * Generator function which is called between each async step of the upload\n",
              " * process.\n",
              " * @param {string} inputId Element ID of the input file picker element.\n",
              " * @param {string} outputId Element ID of the output display.\n",
              " * @return {!Iterable<!Object>} Iterable of next steps.\n",
              " */\n",
              "function* uploadFilesStep(inputId, outputId) {\n",
              "  const inputElement = document.getElementById(inputId);\n",
              "  inputElement.disabled = false;\n",
              "\n",
              "  const outputElement = document.getElementById(outputId);\n",
              "  outputElement.innerHTML = '';\n",
              "\n",
              "  const pickedPromise = new Promise((resolve) => {\n",
              "    inputElement.addEventListener('change', (e) => {\n",
              "      resolve(e.target.files);\n",
              "    });\n",
              "  });\n",
              "\n",
              "  const cancel = document.createElement('button');\n",
              "  inputElement.parentElement.appendChild(cancel);\n",
              "  cancel.textContent = 'Cancel upload';\n",
              "  const cancelPromise = new Promise((resolve) => {\n",
              "    cancel.onclick = () => {\n",
              "      resolve(null);\n",
              "    };\n",
              "  });\n",
              "\n",
              "  // Wait for the user to pick the files.\n",
              "  const files = yield {\n",
              "    promise: Promise.race([pickedPromise, cancelPromise]),\n",
              "    response: {\n",
              "      action: 'starting',\n",
              "    }\n",
              "  };\n",
              "\n",
              "  cancel.remove();\n",
              "\n",
              "  // Disable the input element since further picks are not allowed.\n",
              "  inputElement.disabled = true;\n",
              "\n",
              "  if (!files) {\n",
              "    return {\n",
              "      response: {\n",
              "        action: 'complete',\n",
              "      }\n",
              "    };\n",
              "  }\n",
              "\n",
              "  for (const file of files) {\n",
              "    const li = document.createElement('li');\n",
              "    li.append(span(file.name, {fontWeight: 'bold'}));\n",
              "    li.append(span(\n",
              "        `(${file.type || 'n/a'}) - ${file.size} bytes, ` +\n",
              "        `last modified: ${\n",
              "            file.lastModifiedDate ? file.lastModifiedDate.toLocaleDateString() :\n",
              "                                    'n/a'} - `));\n",
              "    const percent = span('0% done');\n",
              "    li.appendChild(percent);\n",
              "\n",
              "    outputElement.appendChild(li);\n",
              "\n",
              "    const fileDataPromise = new Promise((resolve) => {\n",
              "      const reader = new FileReader();\n",
              "      reader.onload = (e) => {\n",
              "        resolve(e.target.result);\n",
              "      };\n",
              "      reader.readAsArrayBuffer(file);\n",
              "    });\n",
              "    // Wait for the data to be ready.\n",
              "    let fileData = yield {\n",
              "      promise: fileDataPromise,\n",
              "      response: {\n",
              "        action: 'continue',\n",
              "      }\n",
              "    };\n",
              "\n",
              "    // Use a chunked sending to avoid message size limits. See b/62115660.\n",
              "    let position = 0;\n",
              "    do {\n",
              "      const length = Math.min(fileData.byteLength - position, MAX_PAYLOAD_SIZE);\n",
              "      const chunk = new Uint8Array(fileData, position, length);\n",
              "      position += length;\n",
              "\n",
              "      const base64 = btoa(String.fromCharCode.apply(null, chunk));\n",
              "      yield {\n",
              "        response: {\n",
              "          action: 'append',\n",
              "          file: file.name,\n",
              "          data: base64,\n",
              "        },\n",
              "      };\n",
              "\n",
              "      let percentDone = fileData.byteLength === 0 ?\n",
              "          100 :\n",
              "          Math.round((position / fileData.byteLength) * 100);\n",
              "      percent.textContent = `${percentDone}% done`;\n",
              "\n",
              "    } while (position < fileData.byteLength);\n",
              "  }\n",
              "\n",
              "  // All done.\n",
              "  yield {\n",
              "    response: {\n",
              "      action: 'complete',\n",
              "    }\n",
              "  };\n",
              "}\n",
              "\n",
              "scope.google = scope.google || {};\n",
              "scope.google.colab = scope.google.colab || {};\n",
              "scope.google.colab._files = {\n",
              "  _uploadFiles,\n",
              "  _uploadFilesContinue,\n",
              "};\n",
              "})(self);\n",
              "</script> "
            ],
            "text/plain": [
              "<IPython.core.display.HTML object>"
            ]
          },
          "metadata": {},
          "output_type": "display_data"
        },
        {
          "name": "stdout",
          "output_type": "stream",
          "text": [
            "Saving example.db-wal to example.db-wal\n"
          ]
        }
      ],
      "source": [
        "#Follow step if you already have previous database file\n",
        "#upload example.db-wal file from your system\n",
        "uploaded = files.upload()\n"
      ]
    },
    {
      "cell_type": "code",
      "execution_count": 8,
      "id": "6y777yseDojh",
      "metadata": {
        "colab": {
          "base_uri": "https://localhost:8080/"
        },
        "id": "6y777yseDojh",
        "outputId": "34d3397e-ef60-4bbb-8a64-6a3d3aa42476"
      },
      "outputs": [
        {
          "output_type": "stream",
          "name": "stdout",
          "text": [
            "WAL file moved successfully.\n",
            "Connected to database: state_db/example.db\n"
          ]
        }
      ],
      "source": [
        "#Follow step if you already have previous database file\n",
        "#move both files to state_db folder and establish a connection:\n",
        "\n",
        "import sqlite3\n",
        "import shutil\n",
        "import os\n",
        "\n",
        "# Ensure the state_db directory exists\n",
        "os.makedirs(\"state_db\", exist_ok=True)\n",
        "\n",
        "# Move the uploaded files to the state_db directory\n",
        "shutil.move(\"example.db\", \"state_db/example.db\")\n",
        "if os.path.exists(\"example.db-wal\"):  # Check if WAL file exists\n",
        "    shutil.move(\"example.db-wal\", \"state_db/example.db-wal\")\n",
        "    print(\"WAL file moved successfully.\")\n",
        "else:\n",
        "    print(\"No WAL file found. Proceeding with example.db only.\")\n",
        "\n",
        "# Define the path to the main database file\n",
        "db_path = \"state_db/example.db\"\n",
        "\n",
        "# Connect to the SQLite database\n",
        "try:\n",
        "    conn = sqlite3.connect(db_path, check_same_thread=False)\n",
        "    print(f\"Connected to database: {db_path}\")\n",
        "except sqlite3.OperationalError as e:\n",
        "    print(f\"Error connecting to the database: {e}\")\n"
      ]
    },
    {
      "cell_type": "code",
      "execution_count": 9,
      "id": "3c7736b6-a750-48f8-a838-8e7616b12250",
      "metadata": {
        "id": "3c7736b6-a750-48f8-a838-8e7616b12250"
      },
      "outputs": [],
      "source": [
        "# Here is our checkpointer\n",
        "from langgraph.checkpoint.sqlite import SqliteSaver\n",
        "memory: SqliteSaver = SqliteSaver(conn)"
      ]
    },
    {
      "cell_type": "markdown",
      "id": "9d8cb629-213f-4b87-965e-19b812c42da1",
      "metadata": {
        "id": "9d8cb629-213f-4b87-965e-19b812c42da1"
      },
      "source": [
        "Let's re-define our chatbot."
      ]
    },
    {
      "cell_type": "code",
      "execution_count": 10,
      "id": "dc414e29-2078-41a0-887c-af1a6a3d72c0",
      "metadata": {
        "id": "dc414e29-2078-41a0-887c-af1a6a3d72c0"
      },
      "outputs": [],
      "source": [
        "from langchain_google_genai import ChatGoogleGenerativeAI\n",
        "from langchain_core.messages import SystemMessage, HumanMessage, RemoveMessage\n",
        "\n",
        "from langgraph.graph import END\n",
        "from langgraph.graph import MessagesState\n",
        "\n",
        "model: ChatGoogleGenerativeAI = ChatGoogleGenerativeAI(model = \"gemini-1.5-flash\", api_key =  GEMINI_API_KEY)\n",
        "\n",
        "class State(MessagesState):\n",
        "    summary: str\n",
        "\n",
        "# Define the logic to call the model\n",
        "def call_model(state: State) -> State:\n",
        "\n",
        "    # Get summary if it exists\n",
        "    summary = state.get(\"summary\", \"\")\n",
        "    print(f\"Using summary: {summary}\")\n",
        "\n",
        "    # If there is summary, then we add it\n",
        "    if summary:\n",
        "\n",
        "        # Add summary to system message\n",
        "        system_message = f\"Summary of conversation earlier: {summary}\"\n",
        "\n",
        "        # Append summary to any newer messages\n",
        "        messages = [SystemMessage(content=system_message)] + state[\"messages\"]\n",
        "\n",
        "    else:\n",
        "        messages = state[\"messages\"]\n",
        "\n",
        "    response = model.invoke(messages)\n",
        "    return {\"messages\": response}\n",
        "\n",
        "def summarize_conversation(state: State) -> State:\n",
        "    print(f\"Messages before summarizing: {len(state['messages'])}\")\n",
        "    # First, we get any existing summary\n",
        "    summary = state.get(\"summary\", \"\")\n",
        "    print(f\"Existing summary: {summary}\")\n",
        "\n",
        "    # Create our summarization prompt\n",
        "    if summary:\n",
        "\n",
        "        # A summary already exists\n",
        "        summary_message = (\n",
        "            f\"This is summary of the conversation to date: {summary}\\n\\n\"\n",
        "            \"Extend the summary by taking into account the new messages above:\"\n",
        "        )\n",
        "\n",
        "    else:\n",
        "        summary_message = \"Create a summary of the conversation above:\"\n",
        "\n",
        "\n",
        "    # Add prompt to our history\n",
        "    messages = state[\"messages\"] + [HumanMessage(content=summary_message)]\n",
        "    response = model.invoke(messages)\n",
        "    # Summarization logic\n",
        "    print(f\"New summary: {response.content}\")\n",
        "\n",
        "    # Delete all but the 2 most recent messages\n",
        "    delete_messages = [RemoveMessage(id=m.id) for m in state[\"messages\"][:-2]]\n",
        "\n",
        "    print(f\"Messages after truncation: {len(delete_messages)}\")\n",
        "    return {\"summary\": response.content, \"messages\": delete_messages}\n",
        "\n",
        "# Determine whether to end or summarize the conversation\n",
        "def should_continue(state: State) -> State:\n",
        "\n",
        "    \"\"\"Return the next node to execute.\"\"\"\n",
        "\n",
        "    messages = state[\"messages\"]\n",
        "    print(f\"Message count: {len(messages)}\")\n",
        "    # If there are more than six messages, then we summarize the conversation\n",
        "    if len(messages) > 6:\n",
        "        return \"summarize_conversation\"\n",
        "\n",
        "    # Otherwise we can just end\n",
        "    return END"
      ]
    },
    {
      "cell_type": "markdown",
      "id": "41c13c0b-a383-4f73-9cc1-63f0eed8f190",
      "metadata": {
        "id": "41c13c0b-a383-4f73-9cc1-63f0eed8f190"
      },
      "source": [
        "Now, we just re-compile with our sqlite checkpointer."
      ]
    },
    {
      "cell_type": "code",
      "execution_count": 11,
      "id": "e867fd95-91eb-4ce1-82fc-bb72d611a96d",
      "metadata": {
        "colab": {
          "base_uri": "https://localhost:8080/",
          "height": 350
        },
        "id": "e867fd95-91eb-4ce1-82fc-bb72d611a96d",
        "outputId": "c9d1accb-c246-4c08-a0a9-28d767a91c77"
      },
      "outputs": [
        {
          "output_type": "display_data",
          "data": {
            "image/png": "[encoded data removed]",
            "text/plain": [
              "<IPython.core.display.Image object>"
            ]
          },
          "metadata": {}
        }
      ],
      "source": [
        "from IPython.display import Image, display\n",
        "from langgraph.graph import StateGraph, START\n",
        "from langgraph.graph.state import CompiledStateGraph\n",
        "\n",
        "# Define a new graph\n",
        "workflow: StateGraph = StateGraph(State)\n",
        "workflow.add_node(\"conversation\", call_model)\n",
        "workflow.add_node(summarize_conversation)\n",
        "\n",
        "# Set the entrypoint as conversation\n",
        "workflow.add_edge(START, \"conversation\")\n",
        "workflow.add_conditional_edges(\"conversation\", should_continue)\n",
        "workflow.add_edge(\"summarize_conversation\", END)\n",
        "\n",
        "# Compile\n",
        "graph: CompiledStateGraph = workflow.compile(checkpointer=memory)\n",
        "display(Image(graph.get_graph().draw_mermaid_png()))"
      ]
    },
    {
      "cell_type": "markdown",
      "id": "8769db99-3938-45e6-a594-56beb18d6c45",
      "metadata": {
        "id": "8769db99-3938-45e6-a594-56beb18d6c45"
      },
      "source": [
        "Now, we can invoke the graph several times."
      ]
    },
    {
      "cell_type": "code",
      "execution_count": 19,
      "id": "0f4094a0-d240-4be8-903a-7d9f605bdc5c",
      "metadata": {
        "colab": {
          "base_uri": "https://localhost:8080/"
        },
        "id": "0f4094a0-d240-4be8-903a-7d9f605bdc5c",
        "outputId": "f062b0ae-7ebd-4876-dc1b-81a8199f2338"
      },
      "outputs": [
        {
          "output_type": "stream",
          "name": "stdout",
          "text": [
            "Using summary: \n",
            "Message count: 2\n",
            "==================================\u001b[1m Ai Message \u001b[0m==================================\n",
            "\n",
            "I assume you mean **cricket**.\n",
            "\n",
            "Cricket is a bat-and-ball game played between two teams of eleven players on a field at the centre of which is a 22-yard pitch with a wicket at each end.  It's a complex game with a rich history and many variations, but here's a basic overview:\n",
            "\n",
            "**The Basics:**\n",
            "\n",
            "* **The Goal:** The batting team tries to score runs, while the bowling team tries to dismiss (get out) the batsmen.\n",
            "* **The Pitch:** A rectangular area of closely mown grass.\n",
            "* **The Wicket:** Three wooden stumps with two small bails balanced on top.  This is the target for the bowler.\n",
            "* **The Bat:** A flat, wooden bat used by the batsmen to hit the ball.\n",
            "* **The Ball:** A hard, leather-covered ball.\n",
            "\n",
            "**Gameplay:**\n",
            "\n",
            "* **Innings:**  A team's turn at batting.  Matches can have one innings per team (like T20), or two innings per team (like Test matches).\n",
            "* **Bowling:** One bowler from the fielding team bowls the ball towards the batsman.\n",
            "* **Batting:** The batsman tries to hit the bowled ball.\n",
            "* **Scoring Runs:** Runs are scored by:\n",
            "    * **Hitting the ball and running between the wickets:**  Each successful run between the wickets counts as one run.\n",
            "    * **Hitting boundaries:** Hitting the ball to the boundary (edge of the field) scores four runs if it bounces before reaching the boundary, and six runs if it reaches the boundary without bouncing.\n",
            "    * **Extras:** Runs awarded to the batting team due to errors by the bowling team (e.g., wides, no-balls).\n",
            "* **Dismissals (Getting Out):** There are several ways a batsman can be dismissed, including:\n",
            "    * **Bowled:** The ball hits the wicket directly from the bowler's delivery.\n",
            "    * **Caught:** A fielder catches the ball after the batsman hits it, without it bouncing.\n",
            "    * **Leg Before Wicket (LBW):** The ball would have hit the wicket, but the batsman's leg obstructed it.\n",
            "    * **Run Out:** A fielder hits the wicket with the ball while a batsman is out of his crease and attempting a run.\n",
            "    * **Stumped:** The wicket-keeper (a fielder standing behind the wicket) hits the wicket with the ball while the batsman is out of his crease and not attempting a run.\n",
            "\n",
            "**Different Formats:**\n",
            "\n",
            "Cricket has several formats, each with different lengths and rules:\n",
            "\n",
            "* **Test Matches:** The longest format, lasting five days.  Known for its tactical depth and endurance.\n",
            "* **One Day Internationals (ODIs):** Each team has 50 overs (an over is a set of six legal deliveries).\n",
            "* **Twenty20 (T20):** The shortest format, each team has 20 overs.  Fast-paced and exciting.\n",
            "\n",
            "This is a simplified explanation.  Cricket has many nuances and intricacies that take time to learn.  If you'd like to know more about a specific aspect, feel free to ask!\n"
          ]
        }
      ],
      "source": [
        "# Create a thread\n",
        "config = {\"configurable\": {\"thread_id\": \"2\"}}\n",
        "\n",
        "# Start conversation\n",
        "input_message = HumanMessage(content=\"I would like to know about cirket.\")\n",
        "output = graph.invoke({\"messages\": [input_message]}, config)\n",
        "for m in output['messages'][-1:]:\n",
        "    m.pretty_print()\n"
      ]
    },
    {
      "cell_type": "markdown",
      "id": "c0f3e842-4497-45e2-a924-69672a9bcb33",
      "metadata": {
        "id": "c0f3e842-4497-45e2-a924-69672a9bcb33"
      },
      "source": [
        "Let's confirm that our state is saved locally."
      ]
    },
    {
      "cell_type": "code",
      "source": [
        "input_message = HumanMessage(content=\"My name is Arshad.\")\n",
        "output = graph.invoke({\"messages\": [input_message]}, config)\n",
        "for m in output['messages'][-1:]:\n",
        "    m.pretty_print()"
      ],
      "metadata": {
        "id": "ZqBPGqGwX0d4",
        "outputId": "774d8694-d7c7-49b2-e17d-362103051167",
        "colab": {
          "base_uri": "https://localhost:8080/"
        }
      },
      "id": "ZqBPGqGwX0d4",
      "execution_count": 20,
      "outputs": [
        {
          "output_type": "stream",
          "name": "stdout",
          "text": [
            "Using summary: \n",
            "Message count: 4\n",
            "==================================\u001b[1m Ai Message \u001b[0m==================================\n",
            "\n",
            "It's nice to meet you, Arshad.  Is there anything I can help you with today regarding cricket or any other topic?\n"
          ]
        }
      ]
    },
    {
      "cell_type": "code",
      "execution_count": 21,
      "id": "cZoLBwonOMGa",
      "metadata": {
        "colab": {
          "base_uri": "https://localhost:8080/"
        },
        "id": "cZoLBwonOMGa",
        "outputId": "3cbf35f7-3b9e-4def-ce40-8e90149f2a12"
      },
      "outputs": [
        {
          "output_type": "stream",
          "name": "stdout",
          "text": [
            "Using summary: \n",
            "Message count: 6\n",
            "==================================\u001b[1m Ai Message \u001b[0m==================================\n",
            "\n",
            "Your name is Arshad.\n"
          ]
        }
      ],
      "source": [
        "input_message = HumanMessage(content=\"what's my name?\")\n",
        "output = graph.invoke({\"messages\": [input_message]}, config)\n",
        "for m in output['messages'][-1:]:\n",
        "    m.pretty_print()\n"
      ]
    },
    {
      "cell_type": "code",
      "execution_count": 22,
      "id": "oL7okbdYORfH",
      "metadata": {
        "colab": {
          "base_uri": "https://localhost:8080/"
        },
        "id": "oL7okbdYORfH",
        "outputId": "25f8f186-6085-49eb-b892-f9559dd88eaa"
      },
      "outputs": [
        {
          "output_type": "stream",
          "name": "stdout",
          "text": [
            "Using summary: \n",
            "Message count: 8\n",
            "Messages before summarizing: 8\n",
            "Existing summary: \n",
            "New summary: The conversation began with a request for information about cricket.  After clarifying the spelling, a basic explanation of the game was provided.  The user then introduced themselves as Arshad.  A brief exchange confirmed the user's name, and the conversation concluded with Arshad expressing their support for the Pakistan cricket team.\n",
            "\n",
            "Messages after truncation: 6\n",
            "==================================\u001b[1m Ai Message \u001b[0m==================================\n",
            "\n",
            "That's great!  Pakistan has a very passionate and talented cricket team with a rich history.  They've produced some legendary players and have always been a force to be reckoned with on the international stage.  Are there any particular players or moments in Pakistan cricket history that you enjoy the most?\n"
          ]
        }
      ],
      "source": [
        "input_message = HumanMessage(content=\"i like the Pakistan Cirket team!\")\n",
        "output = graph.invoke({\"messages\": [input_message]}, config)\n",
        "for m in output['messages'][-1:]:\n",
        "    m.pretty_print()"
      ]
    },
    {
      "cell_type": "code",
      "execution_count": 16,
      "id": "d2ab158a-5a82-417a-8841-730a4cc18ea7",
      "metadata": {
        "colab": {
          "base_uri": "https://localhost:8080/"
        },
        "id": "d2ab158a-5a82-417a-8841-730a4cc18ea7",
        "outputId": "9a4f322b-6fda-4a60-e307-f16e9111ae76"
      },
      "outputs": [
        {
          "output_type": "execute_result",
          "data": {
            "text/plain": [
              "StateSnapshot(values={'messages': [HumanMessage(content='I would like to know about football.', additional_kwargs={}, response_metadata={}, id='c41d327e-bd95-4c49-8efa-dd6f0fbd6eab'), AIMessage(content=\"Football, or soccer as it's known in some parts of the world, is a team sport played with a spherical ball between two teams of eleven players.  The objective is to score by getting the ball into the opposing team's goal.  Here's a breakdown of key aspects:\\n\\n**Gameplay:**\\n\\n* **The Field:** A rectangular field with goalposts at each end.  The size of the field varies slightly depending on the level of play (professional, amateur, youth).\\n* **Scoring:** A goal is scored when the entire ball crosses the goal line between the goalposts and under the crossbar.\\n* **Movement:** Players use their feet, head, and chest to control and move the ball.  Hands are only allowed for goalkeepers within their designated area.\\n* **Fouls:**  Various actions are considered fouls, such as tripping, pushing, handling the ball (except for goalkeepers), and dangerous play.  Fouls result in free kicks or penalty kicks.\\n* **Free Kicks:** Awarded to the opposing team after a foul.  The defending team forms a wall, and the attacking team attempts to score directly from the free kick.\\n* **Penalty Kicks:** Awarded when a foul occurs inside the penalty area (the box surrounding the goal).  One player takes a shot against only the goalkeeper.\\n* **Offsides:** A complex rule that prevents attacking players from gaining an unfair advantage by being too close to the goal when the ball is passed to them.\\n* **Game Structure:** Matches typically consist of two 45-minute halves with a short break in between.  Stoppage time is added at the end of each half to account for time lost due to injuries or other interruptions.\\n\\n**Key Positions:**\\n\\nWhile formations vary, common positions include:\\n\\n* **Goalkeeper:** Defends the goal.\\n* **Defenders:** Prevent the opposing team from scoring.\\n* **Midfielders:** Control the flow of the game, both offensively and defensively.\\n* **Forwards/Strikers:**  Attempt to score goals.\\n\\n**Levels of Play:**\\n\\nFootball is played at all levels, from local recreational leagues to professional leagues around the world.  The most prestigious leagues include:\\n\\n* **English Premier League (England)**\\n* **La Liga (Spain)**\\n* **Serie A (Italy)**\\n* **Bundesliga (Germany)**\\n* **Ligue 1 (France)**\\n* **Major League Soccer (MLS) (USA & Canada)**\\n* **And many more national and international leagues and competitions**\\n\\n**Governing Bodies:**\\n\\n* **FIFA (Fédération Internationale de Football Association):** The international governing body for football.\\n* **Various continental and national federations:**  These organizations govern football within specific regions and countries.\\n\\nThis is a general overview.  To learn more about specific aspects, you can ask me further questions about:\\n\\n* **Specific rules**\\n* **Famous players or teams**\\n* **Specific leagues or tournaments**\\n* **The history of football**\\n* **The tactics and strategies involved**\\n* **The business side of football**\\n\\n\\nJust let me know what you'd like to explore further!\\n\", additional_kwargs={}, response_metadata={'prompt_feedback': {'block_reason': 0, 'safety_ratings': []}, 'finish_reason': 'STOP', 'safety_ratings': []}, id='run-16b152f9-34b5-4b97-9285-7498ed12a7e3-0', usage_metadata={'input_tokens': 9, 'output_tokens': 662, 'total_tokens': 671, 'input_token_details': {'cache_read': 0}}), HumanMessage(content=\"what's my name?\", additional_kwargs={}, response_metadata={}, id='70ef0ec8-8793-4229-a041-5c11af3c6939'), AIMessage(content='I do not know your name.  I have no access to personal information about you unless you explicitly provide it to me.\\n', additional_kwargs={}, response_metadata={'prompt_feedback': {'block_reason': 0, 'safety_ratings': []}, 'finish_reason': 'STOP', 'safety_ratings': []}, id='run-0d4d64ed-3300-4798-9d14-3dfd64bfdce9-0', usage_metadata={'input_tokens': 679, 'output_tokens': 26, 'total_tokens': 705, 'input_token_details': {'cache_read': 0}}), HumanMessage(content='i like the Pakistan Cirket team!', additional_kwargs={}, response_metadata={}, id='fbd9c93b-394a-4002-9e97-7005aa36e480'), AIMessage(content=\"That's great!  Pakistan's cricket team has a rich history and passionate fanbase. They're known for their exciting and unpredictable style of play, often producing thrilling matches.  What aspects of the Pakistan cricket team do you enjoy the most?  Are there any particular players or moments in their history that stand out to you?\\n\", additional_kwargs={}, response_metadata={'prompt_feedback': {'block_reason': 0, 'safety_ratings': []}, 'finish_reason': 'STOP', 'safety_ratings': []}, id='run-1fa84e20-5840-478a-a875-02bc42e777a8-0', usage_metadata={'input_tokens': 715, 'output_tokens': 69, 'total_tokens': 784, 'input_token_details': {'cache_read': 0}})]}, next=(), config={'configurable': {'thread_id': '2', 'checkpoint_ns': '', 'checkpoint_id': '1efc81d1-acd6-6e17-8007-598f4a95792f'}}, metadata={'source': 'loop', 'writes': {'conversation': {'messages': AIMessage(content=\"That's great!  Pakistan's cricket team has a rich history and passionate fanbase. They're known for their exciting and unpredictable style of play, often producing thrilling matches.  What aspects of the Pakistan cricket team do you enjoy the most?  Are there any particular players or moments in their history that stand out to you?\\n\", additional_kwargs={}, response_metadata={'prompt_feedback': {'block_reason': 0, 'safety_ratings': []}, 'finish_reason': 'STOP', 'safety_ratings': []}, id='run-1fa84e20-5840-478a-a875-02bc42e777a8-0', usage_metadata={'input_tokens': 715, 'output_tokens': 69, 'total_tokens': 784, 'input_token_details': {'cache_read': 0}})}}, 'thread_id': '2', 'step': 7, 'parents': {}}, created_at='2025-01-01T08:48:00.105199+00:00', parent_config={'configurable': {'thread_id': '2', 'checkpoint_ns': '', 'checkpoint_id': '1efc81d1-a64a-6427-8006-579eae3bfb42'}}, tasks=())"
            ]
          },
          "metadata": {},
          "execution_count": 16
        }
      ],
      "source": [
        "config = {\"configurable\": {\"thread_id\": \"2\"}}\n",
        "graph_state = graph.get_state(config)\n",
        "graph_state"
      ]
    },
    {
      "cell_type": "code",
      "execution_count": 17,
      "id": "Qekd1ttftUoj",
      "metadata": {
        "colab": {
          "base_uri": "https://localhost:8080/"
        },
        "id": "Qekd1ttftUoj",
        "outputId": "a62af398-421d-4f90-9ec8-7b6cd2bf3fb6"
      },
      "outputs": [
        {
          "output_type": "execute_result",
          "data": {
            "text/plain": [
              "6"
            ]
          },
          "metadata": {},
          "execution_count": 17
        }
      ],
      "source": [
        "config = {\"configurable\": {\"thread_id\": \"2\"}}\n",
        "messages = graph.get_state(config).values.get(\"messages\")\n",
        "len(messages)"
      ]
    },
    {
      "cell_type": "code",
      "execution_count": 18,
      "id": "de-rftSAKYqD",
      "metadata": {
        "colab": {
          "base_uri": "https://localhost:8080/",
          "height": 35
        },
        "id": "de-rftSAKYqD",
        "outputId": "94c0eebd-124d-48f8-9e37-75f69e1ad7e6"
      },
      "outputs": [
        {
          "output_type": "execute_result",
          "data": {
            "text/plain": [
              "''"
            ],
            "application/vnd.google.colaboratory.intrinsic+json": {
              "type": "string"
            }
          },
          "metadata": {},
          "execution_count": 18
        }
      ],
      "source": [
        "graph_state = graph.get_state(config).values.get(\"summary\",\"\")\n",
        "graph_state"
      ]
    },
    {
      "cell_type": "code",
      "execution_count": 19,
      "id": "BRgmis1C8S7e",
      "metadata": {
        "colab": {
          "base_uri": "https://localhost:8080/"
        },
        "id": "BRgmis1C8S7e",
        "outputId": "731f756b-67d9-4072-c061-f158f2cd7d18"
      },
      "outputs": [
        {
          "output_type": "stream",
          "name": "stdout",
          "text": [
            "example.db  example.db-shm  example.db-wal\n"
          ]
        }
      ],
      "source": [
        "!ls state_db\n"
      ]
    },
    {
      "cell_type": "markdown",
      "id": "XdbM-0ReTQja",
      "metadata": {
        "id": "XdbM-0ReTQja"
      },
      "source": [
        "Download required db files"
      ]
    },
    {
      "cell_type": "code",
      "execution_count": 27,
      "id": "V1CcFo3H2WWL",
      "metadata": {
        "colab": {
          "base_uri": "https://localhost:8080/",
          "height": 17
        },
        "id": "V1CcFo3H2WWL",
        "outputId": "67022bfa-5861-4bef-81c2-6c11fccffa88"
      },
      "outputs": [
        {
          "output_type": "display_data",
          "data": {
            "text/plain": [
              "<IPython.core.display.Javascript object>"
            ],
            "application/javascript": [
              "\n",
              "    async function download(id, filename, size) {\n",
              "      if (!google.colab.kernel.accessAllowed) {\n",
              "        return;\n",
              "      }\n",
              "      const div = document.createElement('div');\n",
              "      const label = document.createElement('label');\n",
              "      label.textContent = `Downloading \"${filename}\": `;\n",
              "      div.appendChild(label);\n",
              "      const progress = document.createElement('progress');\n",
              "      progress.max = size;\n",
              "      div.appendChild(progress);\n",
              "      document.body.appendChild(div);\n",
              "\n",
              "      const buffers = [];\n",
              "      let downloaded = 0;\n",
              "\n",
              "      const channel = await google.colab.kernel.comms.open(id);\n",
              "      // Send a message to notify the kernel that we're ready.\n",
              "      channel.send({})\n",
              "\n",
              "      for await (const message of channel.messages) {\n",
              "        // Send a message to notify the kernel that we're ready.\n",
              "        channel.send({})\n",
              "        if (message.buffers) {\n",
              "          for (const buffer of message.buffers) {\n",
              "            buffers.push(buffer);\n",
              "            downloaded += buffer.byteLength;\n",
              "            progress.value = downloaded;\n",
              "          }\n",
              "        }\n",
              "      }\n",
              "      const blob = new Blob(buffers, {type: 'application/binary'});\n",
              "      const a = document.createElement('a');\n",
              "      a.href = window.URL.createObjectURL(blob);\n",
              "      a.download = filename;\n",
              "      div.appendChild(a);\n",
              "      a.click();\n",
              "      div.remove();\n",
              "    }\n",
              "  "
            ]
          },
          "metadata": {}
        },
        {
          "output_type": "display_data",
          "data": {
            "text/plain": [
              "<IPython.core.display.Javascript object>"
            ],
            "application/javascript": [
              "download(\"download_ab78eff4-593b-4d27-bf4e-c7183f10ba27\", \"example.db\", 110592)"
            ]
          },
          "metadata": {}
        },
        {
          "output_type": "display_data",
          "data": {
            "text/plain": [
              "<IPython.core.display.Javascript object>"
            ],
            "application/javascript": [
              "\n",
              "    async function download(id, filename, size) {\n",
              "      if (!google.colab.kernel.accessAllowed) {\n",
              "        return;\n",
              "      }\n",
              "      const div = document.createElement('div');\n",
              "      const label = document.createElement('label');\n",
              "      label.textContent = `Downloading \"${filename}\": `;\n",
              "      div.appendChild(label);\n",
              "      const progress = document.createElement('progress');\n",
              "      progress.max = size;\n",
              "      div.appendChild(progress);\n",
              "      document.body.appendChild(div);\n",
              "\n",
              "      const buffers = [];\n",
              "      let downloaded = 0;\n",
              "\n",
              "      const channel = await google.colab.kernel.comms.open(id);\n",
              "      // Send a message to notify the kernel that we're ready.\n",
              "      channel.send({})\n",
              "\n",
              "      for await (const message of channel.messages) {\n",
              "        // Send a message to notify the kernel that we're ready.\n",
              "        channel.send({})\n",
              "        if (message.buffers) {\n",
              "          for (const buffer of message.buffers) {\n",
              "            buffers.push(buffer);\n",
              "            downloaded += buffer.byteLength;\n",
              "            progress.value = downloaded;\n",
              "          }\n",
              "        }\n",
              "      }\n",
              "      const blob = new Blob(buffers, {type: 'application/binary'});\n",
              "      const a = document.createElement('a');\n",
              "      a.href = window.URL.createObjectURL(blob);\n",
              "      a.download = filename;\n",
              "      div.appendChild(a);\n",
              "      a.click();\n",
              "      div.remove();\n",
              "    }\n",
              "  "
            ]
          },
          "metadata": {}
        },
        {
          "output_type": "display_data",
          "data": {
            "text/plain": [
              "<IPython.core.display.Javascript object>"
            ],
            "application/javascript": [
              "download(\"download_23c1ce85-09b4-496e-8c8c-59eb600af29b\", \"example.db-wal\", 597432)"
            ]
          },
          "metadata": {}
        }
      ],
      "source": [
        "from google.colab import files\n",
        "files.download('state_db/example.db')\n",
        "files.download('state_db/example.db-wal')\n"
      ]
    },
    {
      "cell_type": "markdown",
      "id": "1e21152d-ed9c-408d-b7d5-f634c9ce81e2",
      "metadata": {
        "id": "1e21152d-ed9c-408d-b7d5-f634c9ce81e2"
      },
      "source": [
        "### Persisting state\n",
        "\n",
        "Using database like Sqlite means state is persisted!\n",
        "\n",
        "For example, we can re-start the notebook kernel and see that we can still load from Sqlite DB on disk.\n"
      ]
    },
    {
      "cell_type": "markdown",
      "id": "8466e418-1a46-4cdb-a51a-6ae14281bb85",
      "metadata": {
        "id": "8466e418-1a46-4cdb-a51a-6ae14281bb85"
      },
      "source": [
        "## LangGraph Studio\n",
        "\n",
        "--\n",
        "\n",
        "**⚠️ DISCLAIMER**\n",
        "\n",
        "*Running Studio currently requires a Mac. If you are not using a Mac, then skip this step.*\n",
        "\n",
        "--\n",
        "\n",
        "Now that we better understand external memory, recall that the LangGraph API packages your code and provides you with with built-in persistence.\n",
        "\n",
        "And the API is the back-end for Studio!\n",
        "\n",
        "Load the `chatbot` in the UI, which uses `module2-/studio/chatbot.py` set in `module2-/studio/langgraph.json`."
      ]
    },
    {
      "cell_type": "markdown",
      "id": "c4916d8b",
      "metadata": {
        "id": "c4916d8b"
      },
      "source": []
    }
  ],
  "metadata": {
    "accelerator": "GPU",
    "colab": {
      "gpuType": "T4",
      "provenance": [],
      "include_colab_link": true
    },
    "kernelspec": {
      "display_name": "Python 3",
      "name": "python3"
    },
    "language_info": {
      "codemirror_mode": {
        "name": "ipython",
        "version": 3
      },
      "file_extension": ".py",
      "mimetype": "text/x-python",
      "name": "python",
      "nbconvert_exporter": "python",
      "pygments_lexer": "ipython3",
      "version": "3.12.6"
    }
  },
  "nbformat": 4,
  "nbformat_minor": 5
}