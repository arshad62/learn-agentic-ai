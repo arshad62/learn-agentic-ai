{
  "nbformat": 4,
  "nbformat_minor": 0,
  "metadata": {
    "colab": {
      "provenance": [],
      "include_colab_link": true
    },
    "kernelspec": {
      "name": "python3",
      "display_name": "Python 3"
    },
    "language_info": {
      "name": "python"
    }
  },
  "cells": [
    {
      "cell_type": "markdown",
      "metadata": {
        "id": "view-in-github",
        "colab_type": "text"
      },
      "source": [
        "<a href=\"https://colab.research.google.com/github/arshad62/learn-agentic-ai/blob/main/12_langchain_ecosystem/langgraph/course-notebooks/module-2/6.2_chatbot_external_memory_with_postgres.ipynb\" target=\"_parent\"><img src=\"https://colab.research.google.com/assets/colab-badge.svg\" alt=\"Open In Colab\"/></a>"
      ]
    },
    {
      "cell_type": "markdown",
      "source": [
        "# Chatbot with message summarization & external DB memory\n",
        "\n",
        "## Review\n",
        "\n",
        "We've covered how to customize graph state schema and reducer.\n",
        "\n",
        "We've also shown a number of tricks for trimming or filtering messages in graph state.\n",
        "\n",
        "We've used these concepts in a Chatbot with memory that produces a running summary of the conversation.\n",
        "\n",
        "## Goals\n",
        "\n",
        "But, what if we want our Chatbot to have memory that persists indefinitely?\n",
        "\n",
        "Now, we'll introduce some more advanced checkpointers that support external databases.\n",
        "\n",
        "Here, we'll show how to use [Postgres as a checkpointer](https://langchain-ai.github.io/langgraph/how-tos/persistence_postgres/)"
      ],
      "metadata": {
        "id": "9iKKYdAkVoxu"
      }
    },
    {
      "cell_type": "code",
      "execution_count": 1,
      "metadata": {
        "id": "Lwi6YkLu31aK"
      },
      "outputs": [],
      "source": [
        "%%capture --no-stderr\n",
        "%pip install -U langgraph langgraph-checkpoint-postgres psycopg psycopg-pool langchain_google_genai\n"
      ]
    },
    {
      "cell_type": "code",
      "source": [
        "from google.colab import userdata\n",
        "GEMINI_API_KEY = userdata.get('GEMINI_API_KEY')"
      ],
      "metadata": {
        "id": "i6Tn95wS4rxz"
      },
      "execution_count": 2,
      "outputs": []
    },
    {
      "cell_type": "code",
      "source": [
        "import os\n",
        "os.environ[\"LANGCHAIN_API_KEY\"] = userdata.get('LANGCHAIN_API_KEY')\n",
        "os.environ[\"LANGCHAIN_TRACING_V2\"] = \"true\"\n",
        "os.environ[\"LANGCHAIN_PROJECT\"] = \"langchain-academy\""
      ],
      "metadata": {
        "id": "qtL0cG1B8pMt"
      },
      "execution_count": 3,
      "outputs": []
    },
    {
      "cell_type": "markdown",
      "source": [
        "# Use sync connection¶\n",
        "This sets up a synchronous connection to the database.\n",
        "\n",
        "Synchronous connections execute operations in a blocking manner, meaning each operation waits for completion before moving to the next one. The DB_URI is the database connection URI, with the protocol used for connecting to a PostgreSQL database, authentication, and host where database is running. The connection_kwargs dictionary defines additional parameters for the database connection."
      ],
      "metadata": {
        "id": "AqAjciKmV6vl"
      }
    },
    {
      "cell_type": "code",
      "source": [
        "from google.colab import userdata\n",
        "DB_URI = userdata.get('DB_URI')"
      ],
      "metadata": {
        "id": "cP2TdPSB3-dO"
      },
      "execution_count": 4,
      "outputs": []
    },
    {
      "cell_type": "code",
      "source": [
        "from psycopg_pool import ConnectionPool\n",
        "from langgraph.checkpoint.postgres import PostgresSaver\n",
        "\n",
        "# Connection pool for efficient database access\n",
        "connection_kwargs = {\"autocommit\": True, \"prepare_threshold\": 0}\n",
        "\n",
        "# Create a persistent connection pool\n",
        "pool = ConnectionPool(conninfo=DB_URI, max_size=20, kwargs=connection_kwargs)\n",
        "\n",
        "# Initialize PostgresSaver checkpointer\n",
        "checkpointer = PostgresSaver(pool)\n",
        "checkpointer.setup()  # Ensure database tables are set up\n"
      ],
      "metadata": {
        "id": "0XCqHjWM4LTc"
      },
      "execution_count": 5,
      "outputs": []
    },
    {
      "cell_type": "markdown",
      "source": [
        "Let's re-define our chatbot."
      ],
      "metadata": {
        "id": "w9All8mCV1o0"
      }
    },
    {
      "cell_type": "code",
      "source": [
        "from langchain_google_genai import ChatGoogleGenerativeAI\n",
        "from langchain_core.messages import SystemMessage, HumanMessage, RemoveMessage\n",
        "\n",
        "from langgraph.graph import END\n",
        "from langgraph.graph import MessagesState\n",
        "\n",
        "model: ChatGoogleGenerativeAI = ChatGoogleGenerativeAI(model = \"gemini-1.5-flash\", api_key =  GEMINI_API_KEY)\n",
        "\n",
        "class State(MessagesState):\n",
        "    summary: str\n",
        "\n",
        "# Define the logic to call the model\n",
        "def call_model(state: State) -> State:\n",
        "\n",
        "    # Get summary if it exists\n",
        "    summary = state.get(\"summary\", \"\")\n",
        "    print(f\"Using summary: {summary}\")\n",
        "\n",
        "    # If there is summary, then we add it\n",
        "    if summary:\n",
        "\n",
        "        # Add summary to system message\n",
        "        system_message = f\"Summary of conversation earlier: {summary}\"\n",
        "\n",
        "        # Append summary to any newer messages\n",
        "        messages = [SystemMessage(content=system_message)] + state[\"messages\"]\n",
        "\n",
        "    else:\n",
        "        messages = state[\"messages\"]\n",
        "\n",
        "    response = model.invoke(messages)\n",
        "    return {\"messages\": response}\n",
        "\n",
        "def summarize_conversation(state: State) -> State:\n",
        "    print(f\"Messages before summarizing: {len(state['messages'])}\")\n",
        "    # First, we get any existing summary\n",
        "    summary = state.get(\"summary\", \"\")\n",
        "    print(f\"Existing summary: {summary}\")\n",
        "\n",
        "    # Create our summarization prompt\n",
        "    if summary:\n",
        "\n",
        "        # A summary already exists\n",
        "        summary_message = (\n",
        "            f\"This is summary of the conversation to date: {summary}\\n\\n\"\n",
        "            \"Extend the summary by taking into account the new messages above:\"\n",
        "        )\n",
        "\n",
        "    else:\n",
        "        summary_message = \"Create a summary of the conversation above:\"\n",
        "\n",
        "\n",
        "    # Add prompt to our history\n",
        "    messages = state[\"messages\"] + [HumanMessage(content=summary_message)]\n",
        "    response = model.invoke(messages)\n",
        "    # Summarization logic\n",
        "    print(f\"New summary: {response.content}\")\n",
        "\n",
        "    # Delete all but the 2 most recent messages\n",
        "    delete_messages = [RemoveMessage(id=m.id) for m in state[\"messages\"][:-2]]\n",
        "\n",
        "    print(f\"Messages after truncation: {len(delete_messages)}\")\n",
        "    return {\"summary\": response.content, \"messages\": delete_messages}\n",
        "\n",
        "# Determine whether to end or summarize the conversation\n",
        "def should_continue(state: State) -> State:\n",
        "\n",
        "    \"\"\"Return the next node to execute.\"\"\"\n",
        "\n",
        "    messages = state[\"messages\"]\n",
        "    print(f\"Message count: {len(messages)}\")\n",
        "    # If there are more than six messages, then we summarize the conversation\n",
        "    if len(messages) > 6:\n",
        "        return \"summarize_conversation\"\n",
        "\n",
        "    # Otherwise we can just end\n",
        "    return END"
      ],
      "metadata": {
        "id": "kvU-4FnS4Wxu"
      },
      "execution_count": 6,
      "outputs": []
    },
    {
      "cell_type": "markdown",
      "source": [
        "Now, we just re-compile with our postgres checkpointer."
      ],
      "metadata": {
        "id": "zzIVvGsXWap4"
      }
    },
    {
      "cell_type": "code",
      "source": [
        "from langgraph.graph import StateGraph, START, END\n",
        "from langgraph.graph.state import CompiledStateGraph\n",
        "\n",
        "# Redefine workflow\n",
        "workflow = StateGraph(State)\n",
        "workflow.add_node(\"conversation\", call_model)\n",
        "workflow.add_node(summarize_conversation)\n",
        "\n",
        "workflow.add_edge(START, \"conversation\")\n",
        "workflow.add_conditional_edges(\"conversation\", should_continue)\n",
        "workflow.add_edge(\"summarize_conversation\", END)\n",
        "\n",
        "# Compile the workflow with PostgreSQL checkpointer\n",
        "graph = workflow.compile(checkpointer=checkpointer)\n"
      ],
      "metadata": {
        "id": "d7wrnazV4mdo"
      },
      "execution_count": 7,
      "outputs": []
    },
    {
      "cell_type": "markdown",
      "source": [
        "Now, we can invoke the graph several times."
      ],
      "metadata": {
        "id": "C_KTIXuvWkT0"
      }
    },
    {
      "cell_type": "code",
      "source": [
        "# Configuration for thread\n",
        "config = {\"configurable\": {\"thread_id\": \"1\"}}\n",
        "\n",
        "# Start a conversation\n",
        "input_message = HumanMessage(content=\"hi! I'm Arshad\")\n",
        "output = graph.invoke({\"messages\": [input_message]}, config)\n",
        "for m in output['messages'][-1:]:\n",
        "    m.pretty_print()\n",
        "\n",
        "# Check the persisted state\n",
        "graph_state = graph.get_state(config)\n",
        "graph_state"
      ],
      "metadata": {
        "colab": {
          "base_uri": "https://localhost:8080/"
        },
        "id": "Wk129iSWZapB",
        "outputId": "3c2daf16-6036-4dbb-e3a0-c2a59e60cd5a"
      },
      "execution_count": 8,
      "outputs": [
        {
          "output_type": "stream",
          "name": "stdout",
          "text": [
            "Using summary: \n",
            "Message count: 2\n",
            "==================================\u001b[1m Ai Message \u001b[0m==================================\n",
            "\n",
            "Hi Arshad!  Nice to meet you. How can I help you today?\n"
          ]
        },
        {
          "output_type": "execute_result",
          "data": {
            "text/plain": [
              "StateSnapshot(values={'messages': [HumanMessage(content=\"hi! I'm Arshad\", additional_kwargs={}, response_metadata={}, id='e35d024d-103b-4a70-9544-6bd52ec1fe69'), AIMessage(content='Hi Arshad!  Nice to meet you. How can I help you today?\\n', additional_kwargs={}, response_metadata={'prompt_feedback': {'block_reason': 0, 'safety_ratings': []}, 'finish_reason': 'STOP', 'safety_ratings': []}, id='run-2640b126-fbaf-44b8-8abd-741eaa866875-0', usage_metadata={'input_tokens': 8, 'output_tokens': 18, 'total_tokens': 26, 'input_token_details': {'cache_read': 0}})]}, next=(), config={'configurable': {'thread_id': '1', 'checkpoint_ns': '', 'checkpoint_id': '1efcb3e3-cf8f-6976-8001-4a7888cb479d'}}, metadata={'step': 1, 'source': 'loop', 'writes': {'conversation': {'messages': AIMessage(content='Hi Arshad!  Nice to meet you. How can I help you today?\\n', additional_kwargs={}, response_metadata={'finish_reason': 'STOP', 'safety_ratings': [], 'prompt_feedback': {'block_reason': 0, 'safety_ratings': []}}, id='run-2640b126-fbaf-44b8-8abd-741eaa866875-0', usage_metadata={'input_tokens': 8, 'output_tokens': 18, 'total_tokens': 26, 'input_token_details': {'cache_read': 0}})}}, 'parents': {}, 'thread_id': '1'}, created_at='2025-01-05T08:22:44.313513+00:00', parent_config={'configurable': {'thread_id': '1', 'checkpoint_ns': '', 'checkpoint_id': '1efcb3e3-ca1d-606a-8000-6b7a62d4ef65'}}, tasks=())"
            ]
          },
          "metadata": {},
          "execution_count": 8
        }
      ]
    },
    {
      "cell_type": "code",
      "source": [
        "# Configuration for thread\n",
        "config = {\"configurable\": {\"thread_id\": \"1\"}}\n",
        "\n",
        "# Start a conversation\n",
        "input_message = HumanMessage(content=\"I like AI.\")\n",
        "output = graph.invoke({\"messages\": [input_message]}, config)\n",
        "for m in output['messages'][-1:]:\n",
        "    m.pretty_print()\n",
        "\n",
        "# Check the persisted state\n",
        "graph_state = graph.get_state(config)\n",
        "graph_state"
      ],
      "metadata": {
        "colab": {
          "base_uri": "https://localhost:8080/"
        },
        "id": "HxWCVPkuZvf-",
        "outputId": "5842ce5c-5a10-43b7-f8b8-d8b427ccb25d"
      },
      "execution_count": 9,
      "outputs": [
        {
          "output_type": "stream",
          "name": "stdout",
          "text": [
            "Using summary: \n",
            "Message count: 4\n",
            "==================================\u001b[1m Ai Message \u001b[0m==================================\n",
            "\n",
            "That's great!  AI is a fascinating and rapidly developing field.  What specifically about AI interests you?  Are you interested in a particular application, like image recognition or natural language processing, or are you more interested in the underlying concepts and algorithms?\n"
          ]
        },
        {
          "output_type": "execute_result",
          "data": {
            "text/plain": [
              "StateSnapshot(values={'messages': [HumanMessage(content=\"hi! I'm Arshad\", additional_kwargs={}, response_metadata={}, id='e35d024d-103b-4a70-9544-6bd52ec1fe69'), AIMessage(content='Hi Arshad!  Nice to meet you. How can I help you today?\\n', additional_kwargs={}, response_metadata={'prompt_feedback': {'block_reason': 0, 'safety_ratings': []}, 'finish_reason': 'STOP', 'safety_ratings': []}, id='run-2640b126-fbaf-44b8-8abd-741eaa866875-0', usage_metadata={'input_tokens': 8, 'output_tokens': 18, 'total_tokens': 26, 'input_token_details': {'cache_read': 0}}), HumanMessage(content='I like AI.', additional_kwargs={}, response_metadata={}, id='a3c9eb59-e21b-4aeb-be73-d24b9ac96aac'), AIMessage(content=\"That's great!  AI is a fascinating and rapidly developing field.  What specifically about AI interests you?  Are you interested in a particular application, like image recognition or natural language processing, or are you more interested in the underlying concepts and algorithms?\\n\", additional_kwargs={}, response_metadata={'prompt_feedback': {'block_reason': 0, 'safety_ratings': []}, 'finish_reason': 'STOP', 'safety_ratings': []}, id='run-84aa9587-4df7-4f38-bbe5-7a87fae0bc52-0', usage_metadata={'input_tokens': 32, 'output_tokens': 53, 'total_tokens': 85, 'input_token_details': {'cache_read': 0}})]}, next=(), config={'configurable': {'thread_id': '1', 'checkpoint_ns': '', 'checkpoint_id': '1efcb3e5-2a00-6071-8004-bc58dd632bee'}}, metadata={'step': 4, 'source': 'loop', 'writes': {'conversation': {'messages': AIMessage(content=\"That's great!  AI is a fascinating and rapidly developing field.  What specifically about AI interests you?  Are you interested in a particular application, like image recognition or natural language processing, or are you more interested in the underlying concepts and algorithms?\\n\", additional_kwargs={}, response_metadata={'finish_reason': 'STOP', 'safety_ratings': [], 'prompt_feedback': {'block_reason': 0, 'safety_ratings': []}}, id='run-84aa9587-4df7-4f38-bbe5-7a87fae0bc52-0', usage_metadata={'input_tokens': 32, 'output_tokens': 53, 'total_tokens': 85, 'input_token_details': {'cache_read': 0}})}}, 'parents': {}, 'thread_id': '1'}, created_at='2025-01-05T08:23:20.640285+00:00', parent_config={'configurable': {'thread_id': '1', 'checkpoint_ns': '', 'checkpoint_id': '1efcb3e5-23d8-6871-8003-ca6af00d740b'}}, tasks=())"
            ]
          },
          "metadata": {},
          "execution_count": 9
        }
      ]
    },
    {
      "cell_type": "code",
      "source": [
        "# Configuration for thread\n",
        "config = {\"configurable\": {\"thread_id\": \"1\"}}\n",
        "\n",
        "# Start a conversation\n",
        "input_message = HumanMessage(content=\"What's my name and what is my hobby?\")\n",
        "output = graph.invoke({\"messages\": [input_message]}, config)\n",
        "for m in output['messages'][-1:]:\n",
        "    m.pretty_print()\n",
        "\n",
        "# Check the persisted state\n",
        "graph_state = graph.get_state(config)\n",
        "graph_state"
      ],
      "metadata": {
        "colab": {
          "base_uri": "https://localhost:8080/"
        },
        "id": "HxLLjBiBfZAL",
        "outputId": "8a0403e6-3352-4c7e-d8b3-df3f95046c3d"
      },
      "execution_count": 10,
      "outputs": [
        {
          "output_type": "stream",
          "name": "stdout",
          "text": [
            "Using summary: \n",
            "Message count: 6\n",
            "==================================\u001b[1m Ai Message \u001b[0m==================================\n",
            "\n",
            "Your name is Arshad, and based on our conversation, your hobby appears to be an interest in AI.\n"
          ]
        },
        {
          "output_type": "execute_result",
          "data": {
            "text/plain": [
              "StateSnapshot(values={'messages': [HumanMessage(content=\"hi! I'm Arshad\", additional_kwargs={}, response_metadata={}, id='e35d024d-103b-4a70-9544-6bd52ec1fe69'), AIMessage(content='Hi Arshad!  Nice to meet you. How can I help you today?\\n', additional_kwargs={}, response_metadata={'prompt_feedback': {'block_reason': 0, 'safety_ratings': []}, 'finish_reason': 'STOP', 'safety_ratings': []}, id='run-2640b126-fbaf-44b8-8abd-741eaa866875-0', usage_metadata={'input_tokens': 8, 'output_tokens': 18, 'total_tokens': 26, 'input_token_details': {'cache_read': 0}}), HumanMessage(content='I like AI.', additional_kwargs={}, response_metadata={}, id='a3c9eb59-e21b-4aeb-be73-d24b9ac96aac'), AIMessage(content=\"That's great!  AI is a fascinating and rapidly developing field.  What specifically about AI interests you?  Are you interested in a particular application, like image recognition or natural language processing, or are you more interested in the underlying concepts and algorithms?\\n\", additional_kwargs={}, response_metadata={'prompt_feedback': {'block_reason': 0, 'safety_ratings': []}, 'finish_reason': 'STOP', 'safety_ratings': []}, id='run-84aa9587-4df7-4f38-bbe5-7a87fae0bc52-0', usage_metadata={'input_tokens': 32, 'output_tokens': 53, 'total_tokens': 85, 'input_token_details': {'cache_read': 0}}), HumanMessage(content=\"What's my name and what is my hobby?\", additional_kwargs={}, response_metadata={}, id='ca970c4d-8ab5-4ee4-9e52-a2ac00cd472b'), AIMessage(content='Your name is Arshad, and based on our conversation, your hobby appears to be an interest in AI.\\n', additional_kwargs={}, response_metadata={'prompt_feedback': {'block_reason': 0, 'safety_ratings': []}, 'finish_reason': 'STOP', 'safety_ratings': []}, id='run-107d80d7-ddca-4898-8aec-d72bd0286e46-0', usage_metadata={'input_tokens': 98, 'output_tokens': 23, 'total_tokens': 121, 'input_token_details': {'cache_read': 0}})]}, next=(), config={'configurable': {'thread_id': '1', 'checkpoint_ns': '', 'checkpoint_id': '1efcb3f2-44e7-6a1d-8007-e2b80376ea80'}}, metadata={'step': 7, 'source': 'loop', 'writes': {'conversation': {'messages': AIMessage(content='Your name is Arshad, and based on our conversation, your hobby appears to be an interest in AI.\\n', additional_kwargs={}, response_metadata={'finish_reason': 'STOP', 'safety_ratings': [], 'prompt_feedback': {'block_reason': 0, 'safety_ratings': []}}, id='run-107d80d7-ddca-4898-8aec-d72bd0286e46-0', usage_metadata={'input_tokens': 98, 'output_tokens': 23, 'total_tokens': 121, 'input_token_details': {'cache_read': 0}})}}, 'parents': {}, 'thread_id': '1'}, created_at='2025-01-05T08:29:12.427544+00:00', parent_config={'configurable': {'thread_id': '1', 'checkpoint_ns': '', 'checkpoint_id': '1efcb3f2-3fec-6463-8006-4a0e2835369a'}}, tasks=())"
            ]
          },
          "metadata": {},
          "execution_count": 10
        }
      ]
    },
    {
      "cell_type": "code",
      "source": [
        "# Configuration for thread\n",
        "config = {\"configurable\": {\"thread_id\": \"1\"}}\n",
        "\n",
        "# Start a conversation\n",
        "input_message = HumanMessage(content=\"Can you describe Agentic AI?\")\n",
        "output = graph.invoke({\"messages\": [input_message]}, config)\n",
        "for m in output['messages'][-1:]:\n",
        "    m.pretty_print()\n",
        "\n",
        "# Check the persisted state\n",
        "graph_state = graph.get_state(config)\n",
        "graph_state"
      ],
      "metadata": {
        "colab": {
          "base_uri": "https://localhost:8080/"
        },
        "id": "iygDZ-_xhsQW",
        "outputId": "1f5d46eb-1306-4742-f3ea-8df5d3306688"
      },
      "execution_count": 11,
      "outputs": [
        {
          "output_type": "stream",
          "name": "stdout",
          "text": [
            "Using summary: \n",
            "Message count: 8\n",
            "Messages before summarizing: 8\n",
            "Existing summary: \n",
            "New summary: The conversation began with introductions, where I identified myself as an AI and Arshad introduced himself and stated his interest in AI.  We then discussed Arshad's name and hobby (AI).  Finally, the conversation concluded with a detailed explanation of Agentic AI, its key characteristics (autonomy, proactiveness, goal-directed behavior, persistence, and adaptation), and the ethical considerations involved in its development.\n",
            "\n",
            "Messages after truncation: 6\n",
            "==================================\u001b[1m Ai Message \u001b[0m==================================\n",
            "\n",
            "Agentic AI refers to artificial intelligence systems that are capable of independent action and goal-directed behavior in an environment.  Unlike reactive AI systems that simply respond to stimuli, agentic AI systems exhibit characteristics like:\n",
            "\n",
            "* **Autonomy:** They can operate without constant human intervention, making their own decisions based on their perceived goals and the environment.\n",
            "* **Proactiveness:** They don't just react; they actively pursue goals and anticipate future events.\n",
            "* **Goal-directed behavior:** They have internal representations of goals and plan actions to achieve them.  This often involves learning and adapting to changing circumstances.\n",
            "* **Persistence:** They continue to pursue their goals even in the face of obstacles or setbacks.\n",
            "* **Adaptation:** They can learn from their experiences and adjust their behavior to improve their performance.\n",
            "\n",
            "Agentic AI often involves concepts from reinforcement learning, where an AI agent learns to maximize a reward signal through trial and error.  However, it's a broader concept that encompasses any AI system that exhibits the characteristics listed above.  The level of autonomy and complexity can vary greatly.  A simple robot vacuum cleaner could be considered a very basic form of agentic AI, while a sophisticated AI controlling a spacecraft would be a much more advanced example.\n",
            "\n",
            "The development of truly advanced agentic AI raises significant ethical considerations, particularly concerning safety, accountability, and the potential for unintended consequences.\n"
          ]
        },
        {
          "output_type": "execute_result",
          "data": {
            "text/plain": [
              "StateSnapshot(values={'messages': [HumanMessage(content='Can you describe Agentic AI?', additional_kwargs={}, response_metadata={}, id='5347cc95-03f4-42ce-b779-3190224ec37e'), AIMessage(content=\"Agentic AI refers to artificial intelligence systems that are capable of independent action and goal-directed behavior in an environment.  Unlike reactive AI systems that simply respond to stimuli, agentic AI systems exhibit characteristics like:\\n\\n* **Autonomy:** They can operate without constant human intervention, making their own decisions based on their perceived goals and the environment.\\n* **Proactiveness:** They don't just react; they actively pursue goals and anticipate future events.\\n* **Goal-directed behavior:** They have internal representations of goals and plan actions to achieve them.  This often involves learning and adapting to changing circumstances.\\n* **Persistence:** They continue to pursue their goals even in the face of obstacles or setbacks.\\n* **Adaptation:** They can learn from their experiences and adjust their behavior to improve their performance.\\n\\nAgentic AI often involves concepts from reinforcement learning, where an AI agent learns to maximize a reward signal through trial and error.  However, it's a broader concept that encompasses any AI system that exhibits the characteristics listed above.  The level of autonomy and complexity can vary greatly.  A simple robot vacuum cleaner could be considered a very basic form of agentic AI, while a sophisticated AI controlling a spacecraft would be a much more advanced example.\\n\\nThe development of truly advanced agentic AI raises significant ethical considerations, particularly concerning safety, accountability, and the potential for unintended consequences.\\n\", additional_kwargs={}, response_metadata={'prompt_feedback': {'block_reason': 0, 'safety_ratings': []}, 'finish_reason': 'STOP', 'safety_ratings': []}, id='run-3077335b-fb70-4c7a-a14c-2ab30e8f5f68-0', usage_metadata={'input_tokens': 130, 'output_tokens': 283, 'total_tokens': 413, 'input_token_details': {'cache_read': 0}})], 'summary': \"The conversation began with introductions, where I identified myself as an AI and Arshad introduced himself and stated his interest in AI.  We then discussed Arshad's name and hobby (AI).  Finally, the conversation concluded with a detailed explanation of Agentic AI, its key characteristics (autonomy, proactiveness, goal-directed behavior, persistence, and adaptation), and the ethical considerations involved in its development.\\n\"}, next=(), config={'configurable': {'thread_id': '1', 'checkpoint_ns': '', 'checkpoint_id': '1efcb3f7-7514-6ebd-800b-60435424c957'}}, metadata={'step': 11, 'source': 'loop', 'writes': {'summarize_conversation': {'summary': \"The conversation began with introductions, where I identified myself as an AI and Arshad introduced himself and stated his interest in AI.  We then discussed Arshad's name and hobby (AI).  Finally, the conversation concluded with a detailed explanation of Agentic AI, its key characteristics (autonomy, proactiveness, goal-directed behavior, persistence, and adaptation), and the ethical considerations involved in its development.\\n\", 'messages': [RemoveMessage(content='', additional_kwargs={}, response_metadata={}, id='e35d024d-103b-4a70-9544-6bd52ec1fe69'), RemoveMessage(content='', additional_kwargs={}, response_metadata={}, id='run-2640b126-fbaf-44b8-8abd-741eaa866875-0'), RemoveMessage(content='', additional_kwargs={}, response_metadata={}, id='a3c9eb59-e21b-4aeb-be73-d24b9ac96aac'), RemoveMessage(content='', additional_kwargs={}, response_metadata={}, id='run-84aa9587-4df7-4f38-bbe5-7a87fae0bc52-0'), RemoveMessage(content='', additional_kwargs={}, response_metadata={}, id='ca970c4d-8ab5-4ee4-9e52-a2ac00cd472b'), RemoveMessage(content='', additional_kwargs={}, response_metadata={}, id='run-107d80d7-ddca-4898-8aec-d72bd0286e46-0')]}}, 'parents': {}, 'thread_id': '1'}, created_at='2025-01-05T08:31:31.696977+00:00', parent_config={'configurable': {'thread_id': '1', 'checkpoint_ns': '', 'checkpoint_id': '1efcb3f7-6dc7-60b8-800a-1fcb9ddd513c'}}, tasks=())"
            ]
          },
          "metadata": {},
          "execution_count": 11
        }
      ]
    },
    {
      "cell_type": "markdown",
      "source": [],
      "metadata": {
        "id": "gFqFzWDrWnt5"
      }
    },
    {
      "cell_type": "code",
      "source": [
        "# Retrieve state using thread ID\n",
        "config = {\"configurable\": {\"thread_id\": \"1\"}}\n",
        "graph_state = graph.get_state(config)\n",
        "graph_state"
      ],
      "metadata": {
        "colab": {
          "base_uri": "https://localhost:8080/"
        },
        "id": "Cmwlf-TFYQqH",
        "outputId": "8cae9ee9-f887-46e6-ac14-4ef8821521c1"
      },
      "execution_count": 8,
      "outputs": [
        {
          "output_type": "execute_result",
          "data": {
            "text/plain": [
              "StateSnapshot(values={'messages': [HumanMessage(content='Can you describe Agentic AI?', additional_kwargs={}, response_metadata={}, id='5347cc95-03f4-42ce-b779-3190224ec37e'), AIMessage(content=\"Agentic AI refers to artificial intelligence systems that are capable of independent action and goal-directed behavior in an environment.  Unlike reactive AI systems that simply respond to stimuli, agentic AI systems exhibit characteristics like:\\n\\n* **Autonomy:** They can operate without constant human intervention, making their own decisions based on their perceived goals and the environment.\\n* **Proactiveness:** They don't just react; they actively pursue goals and anticipate future events.\\n* **Goal-directed behavior:** They have internal representations of goals and plan actions to achieve them.  This often involves learning and adapting to changing circumstances.\\n* **Persistence:** They continue to pursue their goals even in the face of obstacles or setbacks.\\n* **Adaptation:** They can learn from their experiences and adjust their behavior to improve their performance.\\n\\nAgentic AI often involves concepts from reinforcement learning, where an AI agent learns to maximize a reward signal through trial and error.  However, it's a broader concept that encompasses any AI system that exhibits the characteristics listed above.  The level of autonomy and complexity can vary greatly.  A simple robot vacuum cleaner could be considered a very basic form of agentic AI, while a sophisticated AI controlling a spacecraft would be a much more advanced example.\\n\\nThe development of truly advanced agentic AI raises significant ethical considerations, particularly concerning safety, accountability, and the potential for unintended consequences.\\n\", additional_kwargs={}, response_metadata={'prompt_feedback': {'block_reason': 0, 'safety_ratings': []}, 'finish_reason': 'STOP', 'safety_ratings': []}, id='run-3077335b-fb70-4c7a-a14c-2ab30e8f5f68-0', usage_metadata={'input_tokens': 130, 'output_tokens': 283, 'total_tokens': 413, 'input_token_details': {'cache_read': 0}})], 'summary': \"The conversation began with introductions, where I identified myself as an AI and Arshad introduced himself and stated his interest in AI.  We then discussed Arshad's name and hobby (AI).  Finally, the conversation concluded with a detailed explanation of Agentic AI, its key characteristics (autonomy, proactiveness, goal-directed behavior, persistence, and adaptation), and the ethical considerations involved in its development.\\n\"}, next=(), config={'configurable': {'thread_id': '1', 'checkpoint_ns': '', 'checkpoint_id': '1efcb3f7-7514-6ebd-800b-60435424c957'}}, metadata={'step': 11, 'source': 'loop', 'writes': {'summarize_conversation': {'summary': \"The conversation began with introductions, where I identified myself as an AI and Arshad introduced himself and stated his interest in AI.  We then discussed Arshad's name and hobby (AI).  Finally, the conversation concluded with a detailed explanation of Agentic AI, its key characteristics (autonomy, proactiveness, goal-directed behavior, persistence, and adaptation), and the ethical considerations involved in its development.\\n\", 'messages': [RemoveMessage(content='', additional_kwargs={}, response_metadata={}, id='e35d024d-103b-4a70-9544-6bd52ec1fe69'), RemoveMessage(content='', additional_kwargs={}, response_metadata={}, id='run-2640b126-fbaf-44b8-8abd-741eaa866875-0'), RemoveMessage(content='', additional_kwargs={}, response_metadata={}, id='a3c9eb59-e21b-4aeb-be73-d24b9ac96aac'), RemoveMessage(content='', additional_kwargs={}, response_metadata={}, id='run-84aa9587-4df7-4f38-bbe5-7a87fae0bc52-0'), RemoveMessage(content='', additional_kwargs={}, response_metadata={}, id='ca970c4d-8ab5-4ee4-9e52-a2ac00cd472b'), RemoveMessage(content='', additional_kwargs={}, response_metadata={}, id='run-107d80d7-ddca-4898-8aec-d72bd0286e46-0')]}}, 'parents': {}, 'thread_id': '1'}, created_at='2025-01-05T08:31:31.696977+00:00', parent_config={'configurable': {'thread_id': '1', 'checkpoint_ns': '', 'checkpoint_id': '1efcb3f7-6dc7-60b8-800a-1fcb9ddd513c'}}, tasks=())"
            ]
          },
          "metadata": {},
          "execution_count": 8
        }
      ]
    },
    {
      "cell_type": "code",
      "source": [
        "pool.close()"
      ],
      "metadata": {
        "id": "d_YbgTBs89_o"
      },
      "execution_count": 9,
      "outputs": []
    },
    {
      "cell_type": "markdown",
      "source": [
        "### Persisting state\n",
        "\n",
        "Using database like Postgres means state is persisted!\n",
        "\n",
        "For example, we can re-start the notebook kernel and see that we can still load from Postgres DB on disk.\n"
      ],
      "metadata": {
        "id": "Io-K7MCWinYF"
      }
    }
  ]
}